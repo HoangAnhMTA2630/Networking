{
 "cells": [
  {
   "cell_type": "markdown",
   "metadata": {},
   "source": [
    "# 1. Install Dependencies and Setup"
   ]
  },
  {
   "cell_type": "code",
   "execution_count": 1,
   "metadata": {
    "tags": []
   },
   "outputs": [],
   "source": [
    "#!pip install tensorflow tensorflow-gpu opencv-python matplotlib"
   ]
  },
  {
   "cell_type": "code",
   "execution_count": 2,
   "metadata": {
    "tags": []
   },
   "outputs": [],
   "source": [
    "#!pip list"
   ]
  },
  {
   "cell_type": "code",
   "execution_count": 3,
   "metadata": {},
   "outputs": [],
   "source": [
    "import tensorflow as tf\n",
    "import os"
   ]
  },
  {
   "cell_type": "code",
   "execution_count": 4,
   "metadata": {},
   "outputs": [],
   "source": [
    "# Avoid OOM errors by setting GPU Memory Consumption Growth\n",
    "gpus = tf.config.experimental.list_physical_devices('GPU')\n",
    "for gpu in gpus: \n",
    "    tf.config.experimental.set_memory_growth(gpu, True)"
   ]
  },
  {
   "cell_type": "code",
   "execution_count": 5,
   "metadata": {
    "tags": []
   },
   "outputs": [
    {
     "data": {
      "text/plain": [
       "[]"
      ]
     },
     "execution_count": 5,
     "metadata": {},
     "output_type": "execute_result"
    }
   ],
   "source": [
    "tf.config.list_physical_devices('GPU')"
   ]
  },
  {
   "cell_type": "markdown",
   "metadata": {},
   "source": [
    "# 2. Remove dodgy images"
   ]
  },
  {
   "cell_type": "code",
   "execution_count": 6,
   "metadata": {},
   "outputs": [],
   "source": [
    "import cv2\n",
    "import imghdr"
   ]
  },
  {
   "cell_type": "code",
   "execution_count": 7,
   "metadata": {},
   "outputs": [],
   "source": [
    "data_dir = 'data' "
   ]
  },
  {
   "cell_type": "code",
   "execution_count": 8,
   "metadata": {},
   "outputs": [],
   "source": [
    "image_exts = ['jpeg','jpg', 'bmp', 'png']"
   ]
  },
  {
   "cell_type": "code",
   "execution_count": 9,
   "metadata": {
    "tags": []
   },
   "outputs": [],
   "source": [
    "for image_class in os.listdir(data_dir): \n",
    "    for image in os.listdir(os.path.join(data_dir, image_class)):\n",
    "        image_path = os.path.join(data_dir, image_class, image)\n",
    "        try: \n",
    "            img = cv2.imread(image_path)\n",
    "            tip = imghdr.what(image_path)\n",
    "            if tip not in image_exts: \n",
    "                print('Image not in ext list {}'.format(image_path))\n",
    "                os.remove(image_path)\n",
    "        except Exception as e: \n",
    "            print('Issue with image {}'.format(image_path))\n",
    "            # os.remove(image_path)"
   ]
  },
  {
   "cell_type": "markdown",
   "metadata": {},
   "source": [
    "# 3. Load Data"
   ]
  },
  {
   "cell_type": "code",
   "execution_count": 10,
   "metadata": {},
   "outputs": [],
   "source": [
    "import numpy as np\n",
    "from matplotlib import pyplot as plt\n",
    "#import matplotlib.pyplot as plt"
   ]
  },
  {
   "cell_type": "code",
   "execution_count": 11,
   "metadata": {},
   "outputs": [
    {
     "name": "stdout",
     "output_type": "stream",
     "text": [
      "Found 209 files belonging to 2 classes.\n"
     ]
    }
   ],
   "source": [
    "data = tf.keras.utils.image_dataset_from_directory('data')"
   ]
  },
  {
   "cell_type": "code",
   "execution_count": 12,
   "metadata": {},
   "outputs": [],
   "source": [
    "data_iterator = data.as_numpy_iterator()"
   ]
  },
  {
   "cell_type": "code",
   "execution_count": 13,
   "metadata": {
    "tags": []
   },
   "outputs": [],
   "source": [
    "batch = data_iterator.next()"
   ]
  },
  {
   "cell_type": "code",
   "execution_count": 14,
   "metadata": {
    "tags": []
   },
   "outputs": [],
   "source": [
    "# fig, ax = plt.subplots(ncols=4, figsize=(20,20))\n",
    "# for idx, img in enumerate(batch[0][:4]):\n",
    "#     ax[idx].imshow(img.astype(int))\n",
    "#     ax[idx].title.set_text(batch[1][idx])"
   ]
  },
  {
   "cell_type": "markdown",
   "metadata": {},
   "source": [
    "# 4. Scale Data"
   ]
  },
  {
   "cell_type": "code",
   "execution_count": 15,
   "metadata": {},
   "outputs": [],
   "source": [
    "data = data.map(lambda x,y: (x/255, y))"
   ]
  },
  {
   "cell_type": "code",
   "execution_count": 16,
   "metadata": {
    "scrolled": true,
    "tags": []
   },
   "outputs": [
    {
     "data": {
      "text/plain": [
       "(array([[[[0.        , 0.        , 0.        ],\n",
       "          [0.        , 0.        , 0.        ],\n",
       "          [0.        , 0.        , 0.        ],\n",
       "          ...,\n",
       "          [0.        , 0.        , 0.        ],\n",
       "          [0.        , 0.        , 0.        ],\n",
       "          [0.        , 0.        , 0.        ]],\n",
       " \n",
       "         [[0.        , 0.        , 0.        ],\n",
       "          [0.        , 0.        , 0.        ],\n",
       "          [0.        , 0.        , 0.        ],\n",
       "          ...,\n",
       "          [0.        , 0.        , 0.        ],\n",
       "          [0.        , 0.        , 0.        ],\n",
       "          [0.        , 0.        , 0.        ]],\n",
       " \n",
       "         [[0.        , 0.        , 0.        ],\n",
       "          [0.        , 0.        , 0.        ],\n",
       "          [0.        , 0.        , 0.        ],\n",
       "          ...,\n",
       "          [0.        , 0.        , 0.        ],\n",
       "          [0.        , 0.        , 0.        ],\n",
       "          [0.        , 0.        , 0.        ]],\n",
       " \n",
       "         ...,\n",
       " \n",
       "         [[0.17872243, 0.34818473, 0.563871  ],\n",
       "          [0.17872243, 0.34818473, 0.563871  ],\n",
       "          [0.17872243, 0.34818473, 0.563871  ],\n",
       "          ...,\n",
       "          [0.17872243, 0.34818473, 0.563871  ],\n",
       "          [0.17872243, 0.34818473, 0.563871  ],\n",
       "          [0.17872243, 0.34818473, 0.563871  ]],\n",
       " \n",
       "         [[0.18483455, 0.3445772 , 0.5647059 ],\n",
       "          [0.18530944, 0.34410232, 0.5647059 ],\n",
       "          [0.18578431, 0.34362745, 0.5647059 ],\n",
       "          ...,\n",
       "          [0.1873315 , 0.34208027, 0.5647059 ],\n",
       "          [0.18780637, 0.3416054 , 0.5647059 ],\n",
       "          [0.18828125, 0.34113052, 0.5647059 ]],\n",
       " \n",
       "         [[0.19763266, 0.3372549 , 0.5647059 ],\n",
       "          [0.1979378 , 0.3372549 , 0.5647059 ],\n",
       "          [0.19824295, 0.3372549 , 0.5647059 ],\n",
       "          ...,\n",
       "          [0.19923714, 0.3372549 , 0.5647059 ],\n",
       "          [0.19954228, 0.3372549 , 0.5647059 ],\n",
       "          [0.19984743, 0.3372549 , 0.5647059 ]]],\n",
       " \n",
       " \n",
       "        [[[0.9146446 , 0.91856617, 0.93425244],\n",
       "          [0.88471967, 0.88864124, 0.9043275 ],\n",
       "          [0.9632813 , 0.9658318 , 0.9697534 ],\n",
       "          ...,\n",
       "          [0.9217065 , 0.9269991 , 0.92954963],\n",
       "          [0.89629287, 0.90021443, 0.9159007 ],\n",
       "          [0.91205573, 0.9159773 , 0.93166363]],\n",
       " \n",
       "         [[0.92578894, 0.9297105 , 0.9453968 ],\n",
       "          [0.9037071 , 0.907667  , 0.9233149 ],\n",
       "          [0.9884971 , 0.9906939 , 0.99324447],\n",
       "          ...,\n",
       "          [0.94264704, 0.9465686 , 0.95084393],\n",
       "          [0.90692633, 0.9108479 , 0.9265012 ],\n",
       "          [0.93367034, 0.9375919 , 0.9532782 ]],\n",
       " \n",
       "         [[0.94376534, 0.9476869 , 0.9633732 ],\n",
       "          [0.9216835 , 0.9255835 , 0.94129133],\n",
       "          [0.99856037, 1.        , 1.        ],\n",
       "          ...,\n",
       "          [0.95332414, 0.9572457 , 0.9622782 ],\n",
       "          [0.9193001 , 0.92322165, 0.93886966],\n",
       "          [0.9494332 , 0.9533548 , 0.96904105]],\n",
       " \n",
       "         ...,\n",
       " \n",
       "         [[0.02352941, 0.02352941, 0.00221354],\n",
       "          [0.02574295, 0.02182139, 0.00221354],\n",
       "          [0.02711397, 0.02175274, 0.00358456],\n",
       "          ...,\n",
       "          [0.03529412, 0.04705882, 0.00392157],\n",
       "          [0.03529412, 0.04705882, 0.00392157],\n",
       "          [0.03529412, 0.04705882, 0.00170803]],\n",
       " \n",
       "         [[0.01568628, 0.01960784, 0.        ],\n",
       "          [0.01568628, 0.01960784, 0.        ],\n",
       "          [0.01705729, 0.01960784, 0.        ],\n",
       "          ...,\n",
       "          [0.03529412, 0.04705882, 0.00392157],\n",
       "          [0.03529412, 0.04705882, 0.00392157],\n",
       "          [0.03529412, 0.04705882, 0.00392157]],\n",
       " \n",
       "         [[0.01568628, 0.01960784, 0.        ],\n",
       "          [0.01568628, 0.01960784, 0.        ],\n",
       "          [0.01568628, 0.01960784, 0.        ],\n",
       "          ...,\n",
       "          [0.03666513, 0.04705882, 0.00392157],\n",
       "          [0.02745098, 0.05098039, 0.00392157],\n",
       "          [0.03529412, 0.04705882, 0.00392157]]],\n",
       " \n",
       " \n",
       "        [[[1.        , 1.        , 1.        ],\n",
       "          [0.99786305, 0.99786305, 0.99786305],\n",
       "          [0.99964   , 0.99964   , 0.99964   ],\n",
       "          ...,\n",
       "          [1.        , 1.        , 1.        ],\n",
       "          [1.        , 1.        , 1.        ],\n",
       "          [0.99607843, 0.99607843, 0.99607843]],\n",
       " \n",
       "         [[1.        , 1.        , 1.        ],\n",
       "          [0.99786305, 0.99786305, 0.99786305],\n",
       "          [0.99964   , 0.99964   , 0.99964   ],\n",
       "          ...,\n",
       "          [1.        , 1.        , 1.        ],\n",
       "          [1.        , 1.        , 1.        ],\n",
       "          [0.9962523 , 0.9962523 , 0.9962523 ]],\n",
       " \n",
       "         [[1.        , 1.        , 1.        ],\n",
       "          [0.99786305, 0.99786305, 0.99786305],\n",
       "          [0.99964   , 0.99964   , 0.99964   ],\n",
       "          ...,\n",
       "          [1.        , 1.        , 1.        ],\n",
       "          [1.        , 1.        , 1.        ],\n",
       "          [1.        , 1.        , 1.        ]],\n",
       " \n",
       "         ...,\n",
       " \n",
       "         [[0.9757724 , 0.94428617, 0.9494433 ],\n",
       "          [0.96928936, 0.94991094, 0.9362999 ],\n",
       "          [0.9585465 , 0.9437152 , 0.9745069 ],\n",
       "          ...,\n",
       "          [0.9529412 , 0.9529412 , 0.9529412 ],\n",
       "          [0.9529412 , 0.9529412 , 0.9529412 ],\n",
       "          [0.9529412 , 0.9529412 , 0.9529412 ]],\n",
       " \n",
       "         [[0.9407742 , 0.95848423, 0.9545009 ],\n",
       "          [0.9485848 , 0.95315474, 0.9219899 ],\n",
       "          [0.9295081 , 0.9644338 , 0.94583654],\n",
       "          ...,\n",
       "          [0.9529412 , 0.9529412 , 0.9529412 ],\n",
       "          [0.9529412 , 0.9529412 , 0.9529412 ],\n",
       "          [0.9529412 , 0.9529412 , 0.9529412 ]],\n",
       " \n",
       "         [[0.9544501 , 0.94929534, 0.9595205 ],\n",
       "          [0.9656633 , 0.9396753 , 0.95331335],\n",
       "          [0.96335906, 0.9481211 , 0.95204264],\n",
       "          ...,\n",
       "          [0.9529412 , 0.9529412 , 0.9529412 ],\n",
       "          [0.9529412 , 0.9529412 , 0.9529412 ],\n",
       "          [0.9529412 , 0.9529412 , 0.9529412 ]]],\n",
       " \n",
       " \n",
       "        ...,\n",
       " \n",
       " \n",
       "        [[[0.09127963, 0.09865879, 0.11263176],\n",
       "          [0.08463219, 0.13403068, 0.23594455],\n",
       "          [0.21982913, 0.22072598, 0.09240855],\n",
       "          ...,\n",
       "          [0.88817567, 0.89717287, 0.91116726],\n",
       "          [0.8875133 , 0.89780945, 0.911443  ],\n",
       "          [0.87637866, 0.9002757 , 0.90998775]],\n",
       " \n",
       "         [[0.35890898, 0.33993232, 0.27666014],\n",
       "          [0.12348058, 0.16146132, 0.26133615],\n",
       "          [0.1971341 , 0.19325346, 0.12067871],\n",
       "          ...,\n",
       "          [0.8874184 , 0.8947202 , 0.9094108 ],\n",
       "          [0.89064956, 0.895625  , 0.9116268 ],\n",
       "          [0.8793178 , 0.89021546, 0.9041381 ]],\n",
       " \n",
       "         [[0.58709276, 0.5483333 , 0.38231537],\n",
       "          [0.46630907, 0.45737857, 0.44349438],\n",
       "          [0.22477597, 0.24014606, 0.1998376 ],\n",
       "          ...,\n",
       "          [0.87300855, 0.89261645, 0.90438116],\n",
       "          [0.8755974 , 0.89370406, 0.90546876],\n",
       "          [0.86318934, 0.88855696, 0.89790136]],\n",
       " \n",
       "         ...,\n",
       " \n",
       "         [[0.14186773, 0.13671552, 0.09394926],\n",
       "          [0.11629412, 0.15213443, 0.12526557],\n",
       "          [0.1796346 , 0.2084998 , 0.17283313],\n",
       "          ...,\n",
       "          [0.0840417 , 0.12060726, 0.35194653],\n",
       "          [0.04421985, 0.06909215, 0.1959049 ],\n",
       "          [0.02905776, 0.06691009, 0.17636684]],\n",
       " \n",
       "         [[0.15694137, 0.18439235, 0.15694137],\n",
       "          [0.1778799 , 0.20231622, 0.172451  ],\n",
       "          [0.18147463, 0.20108248, 0.17363149],\n",
       "          ...,\n",
       "          [0.01594155, 0.04800343, 0.21884179],\n",
       "          [0.02786458, 0.07017463, 0.18740809],\n",
       "          [0.01556779, 0.05086191, 0.16474466]],\n",
       " \n",
       "         [[0.18234648, 0.21001396, 0.17863494],\n",
       "          [0.19009088, 0.22104983, 0.17915338],\n",
       "          [0.18638174, 0.20598958, 0.1785386 ],\n",
       "          ...,\n",
       "          [0.0319172 , 0.06857467, 0.2146786 ],\n",
       "          [0.03198326, 0.0734661 , 0.19069956],\n",
       "          [0.01044084, 0.04573496, 0.16730359]]],\n",
       " \n",
       " \n",
       "        [[[0.94509375, 0.85859805, 0.8727678 ],\n",
       "          [0.937579  , 0.88522303, 0.88417876],\n",
       "          [0.9262332 , 0.8780798 , 0.870752  ],\n",
       "          ...,\n",
       "          [1.        , 1.        , 1.        ],\n",
       "          [1.        , 1.        , 1.        ],\n",
       "          [1.        , 1.        , 1.        ]],\n",
       " \n",
       "         [[0.9268495 , 0.77607137, 0.71486026],\n",
       "          [0.9558819 , 0.6863674 , 0.6324836 ],\n",
       "          [0.930946  , 0.6298156 , 0.57958144],\n",
       "          ...,\n",
       "          [1.        , 1.        , 1.        ],\n",
       "          [1.        , 1.        , 1.        ],\n",
       "          [1.        , 1.        , 1.        ]],\n",
       " \n",
       "         [[0.9170587 , 0.50822276, 0.46765065],\n",
       "          [0.92236185, 0.30306348, 0.35638547],\n",
       "          [0.8468025 , 0.23477998, 0.25957868],\n",
       "          ...,\n",
       "          [1.        , 1.        , 1.        ],\n",
       "          [1.        , 1.        , 1.        ],\n",
       "          [1.        , 1.        , 1.        ]],\n",
       " \n",
       "         ...,\n",
       " \n",
       "         [[1.        , 1.        , 0.9843137 ],\n",
       "          [0.997235  , 1.        , 0.99744177],\n",
       "          [0.99573016, 1.        , 1.        ],\n",
       "          ...,\n",
       "          [1.        , 0.9894955 , 0.9811157 ],\n",
       "          [0.9966388 , 1.        , 0.98662686],\n",
       "          [0.9897234 , 1.        , 0.9955423 ]],\n",
       " \n",
       "         [[0.99607843, 1.        , 0.99563944],\n",
       "          [0.99607843, 1.        , 1.        ],\n",
       "          [0.9998643 , 1.        , 0.99484193],\n",
       "          ...,\n",
       "          [1.        , 0.99584097, 0.991682  ],\n",
       "          [0.9826586 , 1.        , 0.9898437 ],\n",
       "          [0.9819647 , 1.        , 0.9894148 ]],\n",
       " \n",
       "         [[0.99607843, 1.        , 1.        ],\n",
       "          [0.99048185, 1.        , 1.        ],\n",
       "          [1.        , 1.        , 0.99339765],\n",
       "          ...,\n",
       "          [0.98956037, 1.        , 1.        ],\n",
       "          [0.977844  , 1.        , 0.99768686],\n",
       "          [0.99909455, 0.9956095 , 0.98769915]]],\n",
       " \n",
       " \n",
       "        [[[0.        , 0.        , 0.        ],\n",
       "          [0.        , 0.        , 0.        ],\n",
       "          [0.        , 0.        , 0.        ],\n",
       "          ...,\n",
       "          [0.        , 0.        , 0.        ],\n",
       "          [0.        , 0.        , 0.        ],\n",
       "          [0.        , 0.        , 0.        ]],\n",
       " \n",
       "         [[0.        , 0.        , 0.        ],\n",
       "          [0.        , 0.        , 0.        ],\n",
       "          [0.        , 0.        , 0.        ],\n",
       "          ...,\n",
       "          [0.        , 0.        , 0.        ],\n",
       "          [0.        , 0.        , 0.        ],\n",
       "          [0.        , 0.        , 0.        ]],\n",
       " \n",
       "         [[0.9373404 , 0.9451835 , 0.9569482 ],\n",
       "          [0.93450975, 0.9420925 , 0.9535355 ],\n",
       "          [0.97657615, 0.9789216 , 0.9802373 ],\n",
       "          ...,\n",
       "          [0.96157753, 0.96533227, 0.9689934 ],\n",
       "          [0.93301976, 0.9370026 , 0.9523672 ],\n",
       "          [0.9375153 , 0.94535846, 0.95712316]],\n",
       " \n",
       "         ...,\n",
       " \n",
       "         [[0.02352941, 0.03137255, 0.03137255],\n",
       "          [0.02352941, 0.03137255, 0.03137255],\n",
       "          [0.02352941, 0.03137255, 0.03137255],\n",
       "          ...,\n",
       "          [0.02352941, 0.03137255, 0.03137255],\n",
       "          [0.02352941, 0.03137255, 0.03137255],\n",
       "          [0.33756128, 0.34540442, 0.35061276]],\n",
       " \n",
       "         [[0.18846507, 0.19568014, 0.19568014],\n",
       "          [0.18846507, 0.19568014, 0.19568014],\n",
       "          [0.18846507, 0.19568014, 0.19568014],\n",
       "          ...,\n",
       "          [0.18846507, 0.19568014, 0.19568014],\n",
       "          [0.18846507, 0.19568014, 0.19568014],\n",
       "          [0.44435292, 0.4517741 , 0.4547696 ]],\n",
       " \n",
       "         [[1.        , 1.        , 1.        ],\n",
       "          [1.        , 1.        , 1.        ],\n",
       "          [1.        , 1.        , 1.        ],\n",
       "          ...,\n",
       "          [1.        , 1.        , 1.        ],\n",
       "          [1.        , 1.        , 1.        ],\n",
       "          [0.96639836, 0.9676851 , 0.9741802 ]]]], dtype=float32),\n",
       " array([1, 1, 1, 0, 0, 0, 1, 1, 0, 0, 1, 1, 0, 0, 0, 0, 1, 0, 0, 0, 0, 0,\n",
       "        1, 0, 1, 0, 0, 1, 1, 0, 1, 1]))"
      ]
     },
     "execution_count": 16,
     "metadata": {},
     "output_type": "execute_result"
    }
   ],
   "source": [
    "data.as_numpy_iterator().next()"
   ]
  },
  {
   "cell_type": "markdown",
   "metadata": {},
   "source": [
    "# 5. Split Data"
   ]
  },
  {
   "cell_type": "code",
   "execution_count": 17,
   "metadata": {},
   "outputs": [],
   "source": [
    "train_size = int(len(data)*.7)\n",
    "val_size = int(len(data)*.2)\n",
    "test_size = int(len(data)*.1)"
   ]
  },
  {
   "cell_type": "code",
   "execution_count": 18,
   "metadata": {},
   "outputs": [
    {
     "data": {
      "text/plain": [
       "4"
      ]
     },
     "execution_count": 18,
     "metadata": {},
     "output_type": "execute_result"
    }
   ],
   "source": [
    "train_size"
   ]
  },
  {
   "cell_type": "code",
   "execution_count": 19,
   "metadata": {},
   "outputs": [],
   "source": [
    "train = data.take(train_size)\n",
    "val = data.skip(train_size).take(val_size)\n",
    "test = data.skip(train_size+val_size).take(test_size)"
   ]
  },
  {
   "cell_type": "markdown",
   "metadata": {},
   "source": [
    "# 6. Build Deep Learning Model"
   ]
  },
  {
   "cell_type": "code",
   "execution_count": 20,
   "metadata": {},
   "outputs": [
    {
     "data": {
      "text/plain": [
       "<TakeDataset element_spec=(TensorSpec(shape=(None, 256, 256, 3), dtype=tf.float32, name=None), TensorSpec(shape=(None,), dtype=tf.int32, name=None))>"
      ]
     },
     "execution_count": 20,
     "metadata": {},
     "output_type": "execute_result"
    }
   ],
   "source": [
    "train"
   ]
  },
  {
   "cell_type": "code",
   "execution_count": 21,
   "metadata": {},
   "outputs": [],
   "source": [
    "from tensorflow.keras.models import Sequential\n",
    "from tensorflow.keras.layers import Conv2D, MaxPooling2D, Dense, Flatten, Dropout"
   ]
  },
  {
   "cell_type": "code",
   "execution_count": 22,
   "metadata": {},
   "outputs": [],
   "source": [
    "model = Sequential()"
   ]
  },
  {
   "cell_type": "code",
   "execution_count": 23,
   "metadata": {},
   "outputs": [],
   "source": [
    "model.add(Conv2D(16, (3,3), 1, activation='relu', input_shape=(256,256,3)))\n",
    "model.add(MaxPooling2D())\n",
    "model.add(Conv2D(32, (3,3), 1, activation='relu'))\n",
    "model.add(MaxPooling2D())\n",
    "model.add(Conv2D(16, (3,3), 1, activation='relu'))\n",
    "model.add(MaxPooling2D())\n",
    "model.add(Flatten())\n",
    "model.add(Dense(256, activation='relu'))\n",
    "model.add(Dense(1, activation='sigmoid'))"
   ]
  },
  {
   "cell_type": "code",
   "execution_count": 24,
   "metadata": {},
   "outputs": [],
   "source": [
    "model.compile('adam', loss=tf.losses.BinaryCrossentropy(), metrics=['accuracy'])"
   ]
  },
  {
   "cell_type": "code",
   "execution_count": 25,
   "metadata": {
    "tags": []
   },
   "outputs": [
    {
     "name": "stdout",
     "output_type": "stream",
     "text": [
      "Model: \"sequential\"\n",
      "_________________________________________________________________\n",
      " Layer (type)                Output Shape              Param #   \n",
      "=================================================================\n",
      " conv2d (Conv2D)             (None, 254, 254, 16)      448       \n",
      "                                                                 \n",
      " max_pooling2d (MaxPooling2D  (None, 127, 127, 16)     0         \n",
      " )                                                               \n",
      "                                                                 \n",
      " conv2d_1 (Conv2D)           (None, 125, 125, 32)      4640      \n",
      "                                                                 \n",
      " max_pooling2d_1 (MaxPooling  (None, 62, 62, 32)       0         \n",
      " 2D)                                                             \n",
      "                                                                 \n",
      " conv2d_2 (Conv2D)           (None, 60, 60, 16)        4624      \n",
      "                                                                 \n",
      " max_pooling2d_2 (MaxPooling  (None, 30, 30, 16)       0         \n",
      " 2D)                                                             \n",
      "                                                                 \n",
      " flatten (Flatten)           (None, 14400)             0         \n",
      "                                                                 \n",
      " dense (Dense)               (None, 256)               3686656   \n",
      "                                                                 \n",
      " dense_1 (Dense)             (None, 1)                 257       \n",
      "                                                                 \n",
      "=================================================================\n",
      "Total params: 3,696,625\n",
      "Trainable params: 3,696,625\n",
      "Non-trainable params: 0\n",
      "_________________________________________________________________\n"
     ]
    }
   ],
   "source": [
    "model.summary()"
   ]
  },
  {
   "cell_type": "markdown",
   "metadata": {},
   "source": [
    "# 7. Train"
   ]
  },
  {
   "cell_type": "code",
   "execution_count": 26,
   "metadata": {},
   "outputs": [],
   "source": [
    "logdir='logs'"
   ]
  },
  {
   "cell_type": "code",
   "execution_count": 27,
   "metadata": {},
   "outputs": [],
   "source": [
    "tensorboard_callback = tf.keras.callbacks.TensorBoard(log_dir=logdir)"
   ]
  },
  {
   "cell_type": "code",
   "execution_count": 28,
   "metadata": {
    "scrolled": true,
    "tags": []
   },
   "outputs": [
    {
     "name": "stdout",
     "output_type": "stream",
     "text": [
      "Epoch 1/20\n",
      "4/4 [==============================] - 4s 600ms/step - loss: 0.9607 - accuracy: 0.5000 - val_loss: 0.6568 - val_accuracy: 0.5938\n",
      "Epoch 2/20\n",
      "4/4 [==============================] - 2s 491ms/step - loss: 0.6930 - accuracy: 0.5156 - val_loss: 0.6493 - val_accuracy: 0.5312\n",
      "Epoch 3/20\n",
      "4/4 [==============================] - 3s 593ms/step - loss: 0.6372 - accuracy: 0.5234 - val_loss: 0.6355 - val_accuracy: 0.5625\n",
      "Epoch 4/20\n",
      "4/4 [==============================] - 2s 538ms/step - loss: 0.6374 - accuracy: 0.6953 - val_loss: 0.6219 - val_accuracy: 0.8125\n",
      "Epoch 5/20\n",
      "4/4 [==============================] - 2s 520ms/step - loss: 0.5853 - accuracy: 0.8203 - val_loss: 0.5806 - val_accuracy: 0.7500\n",
      "Epoch 6/20\n",
      "4/4 [==============================] - 2s 506ms/step - loss: 0.5259 - accuracy: 0.8047 - val_loss: 0.4565 - val_accuracy: 0.9062\n",
      "Epoch 7/20\n",
      "4/4 [==============================] - 2s 545ms/step - loss: 0.4643 - accuracy: 0.8125 - val_loss: 0.3222 - val_accuracy: 0.8438\n",
      "Epoch 8/20\n",
      "4/4 [==============================] - 2s 530ms/step - loss: 0.3394 - accuracy: 0.8750 - val_loss: 0.2551 - val_accuracy: 0.9375\n",
      "Epoch 9/20\n",
      "4/4 [==============================] - 3s 554ms/step - loss: 0.2781 - accuracy: 0.9062 - val_loss: 0.1556 - val_accuracy: 1.0000\n",
      "Epoch 10/20\n",
      "4/4 [==============================] - 3s 553ms/step - loss: 0.2174 - accuracy: 0.9531 - val_loss: 0.0783 - val_accuracy: 1.0000\n",
      "Epoch 11/20\n",
      "4/4 [==============================] - 2s 540ms/step - loss: 0.1615 - accuracy: 0.9453 - val_loss: 0.1386 - val_accuracy: 0.9688\n",
      "Epoch 12/20\n",
      "4/4 [==============================] - 3s 558ms/step - loss: 0.1536 - accuracy: 0.9141 - val_loss: 0.4758 - val_accuracy: 0.7500\n",
      "Epoch 13/20\n",
      "4/4 [==============================] - 3s 544ms/step - loss: 0.2718 - accuracy: 0.8750 - val_loss: 0.2897 - val_accuracy: 0.8750\n",
      "Epoch 14/20\n",
      "4/4 [==============================] - 3s 549ms/step - loss: 0.1388 - accuracy: 0.9531 - val_loss: 0.2425 - val_accuracy: 0.9062\n",
      "Epoch 15/20\n",
      "4/4 [==============================] - 2s 538ms/step - loss: 0.1995 - accuracy: 0.9141 - val_loss: 0.0978 - val_accuracy: 0.9688\n",
      "Epoch 16/20\n",
      "4/4 [==============================] - 3s 544ms/step - loss: 0.1255 - accuracy: 0.9609 - val_loss: 0.0505 - val_accuracy: 1.0000\n",
      "Epoch 17/20\n",
      "4/4 [==============================] - 3s 548ms/step - loss: 0.0690 - accuracy: 0.9922 - val_loss: 0.1173 - val_accuracy: 0.9688\n",
      "Epoch 18/20\n",
      "4/4 [==============================] - 3s 562ms/step - loss: 0.0629 - accuracy: 1.0000 - val_loss: 0.0464 - val_accuracy: 0.9688\n",
      "Epoch 19/20\n",
      "4/4 [==============================] - 2s 535ms/step - loss: 0.0459 - accuracy: 0.9922 - val_loss: 0.0401 - val_accuracy: 1.0000\n",
      "Epoch 20/20\n",
      "4/4 [==============================] - 3s 576ms/step - loss: 0.0441 - accuracy: 0.9922 - val_loss: 0.0318 - val_accuracy: 1.0000\n"
     ]
    }
   ],
   "source": [
    "hist = model.fit(train, epochs=20, validation_data=val, callbacks=[tensorboard_callback])"
   ]
  },
  {
   "cell_type": "markdown",
   "metadata": {},
   "source": [
    "# 8. Plot Performance"
   ]
  },
  {
   "cell_type": "code",
   "execution_count": 29,
   "metadata": {},
   "outputs": [],
   "source": [
    "# fig = plt.figure()\n",
    "# plt.plot(hist.history['loss'], color='teal', label='loss')\n",
    "# plt.plot(hist.history['val_loss'], color='orange', label='val_loss')\n",
    "# fig.suptitle('Loss', fontsize=20)\n",
    "# plt.legend(loc=\"upper left\")\n",
    "# plt.show()"
   ]
  },
  {
   "cell_type": "code",
   "execution_count": 30,
   "metadata": {},
   "outputs": [],
   "source": [
    "# fig = plt.figure()\n",
    "# plt.plot(hist.history['accuracy'], color='teal', label='accuracy')\n",
    "# plt.plot(hist.history['val_accuracy'], color='orange', label='val_accuracy')\n",
    "# fig.suptitle('Accuracy', fontsize=20)\n",
    "# plt.legend(loc=\"upper left\")\n",
    "# plt.show()"
   ]
  },
  {
   "cell_type": "markdown",
   "metadata": {},
   "source": [
    "# 9. Evaluate"
   ]
  },
  {
   "cell_type": "code",
   "execution_count": 31,
   "metadata": {},
   "outputs": [],
   "source": [
    "from tensorflow.keras.metrics import Precision, Recall, BinaryAccuracy"
   ]
  },
  {
   "cell_type": "code",
   "execution_count": 32,
   "metadata": {},
   "outputs": [],
   "source": [
    "pre = Precision()\n",
    "re = Recall()\n",
    "acc = BinaryAccuracy()"
   ]
  },
  {
   "cell_type": "code",
   "execution_count": 33,
   "metadata": {},
   "outputs": [],
   "source": [
    "for batch in test.as_numpy_iterator(): \n",
    "    X, y = batch\n",
    "    yhat = model.predict(X)\n",
    "    pre.update_state(y, yhat)\n",
    "    re.update_state(y, yhat)\n",
    "    acc.update_state(y, yhat)"
   ]
  },
  {
   "cell_type": "code",
   "execution_count": 34,
   "metadata": {},
   "outputs": [
    {
     "name": "stdout",
     "output_type": "stream",
     "text": [
      "tf.Tensor(0.0, shape=(), dtype=float32) tf.Tensor(0.0, shape=(), dtype=float32) tf.Tensor(0.0, shape=(), dtype=float32)\n"
     ]
    }
   ],
   "source": [
    "print(pre.result(), re.result(), acc.result())"
   ]
  },
  {
   "cell_type": "markdown",
   "metadata": {},
   "source": [
    "# 10. Test"
   ]
  },
  {
   "cell_type": "code",
   "execution_count": 35,
   "metadata": {},
   "outputs": [],
   "source": [
    "import cv2"
   ]
  },
  {
   "cell_type": "code",
   "execution_count": 48,
   "metadata": {},
   "outputs": [],
   "source": [
    "img = cv2.imread('Picture.jpg')\n",
    "# plt.imshow(img)\n",
    "# plt.show()"
   ]
  },
  {
   "cell_type": "code",
   "execution_count": 49,
   "metadata": {},
   "outputs": [],
   "source": [
    "resize = tf.image.resize(img, (256,256))\n",
    "# plt.imshow(resize.numpy().astype(int))\n",
    "# plt.show()"
   ]
  },
  {
   "cell_type": "code",
   "execution_count": 50,
   "metadata": {},
   "outputs": [
    {
     "name": "stdout",
     "output_type": "stream",
     "text": [
      "1/1 [==============================] - 0s 24ms/step\n"
     ]
    }
   ],
   "source": [
    "yhat = model.predict(np.expand_dims(resize/255, 0))"
   ]
  },
  {
   "cell_type": "code",
   "execution_count": 51,
   "metadata": {},
   "outputs": [
    {
     "data": {
      "text/plain": [
       "array([[0.9971683]], dtype=float32)"
      ]
     },
     "execution_count": 51,
     "metadata": {},
     "output_type": "execute_result"
    }
   ],
   "source": [
    "yhat"
   ]
  },
  {
   "cell_type": "code",
   "execution_count": 52,
   "metadata": {},
   "outputs": [
    {
     "name": "stdout",
     "output_type": "stream",
     "text": [
      "Predicted class is Sad\n"
     ]
    }
   ],
   "source": [
    "if yhat > 0.5: \n",
    "    print(f'Bạo động')\n",
    "else:\n",
    "    print(f'bôi nhọ cá nhân')"
   ]
  },
  {
   "cell_type": "markdown",
   "metadata": {},
   "source": [
    "# 11. Save the Model"
   ]
  },
  {
   "cell_type": "code",
   "execution_count": 45,
   "metadata": {},
   "outputs": [],
   "source": [
    "#from tensorflow.keras.models import load_model"
   ]
  },
  {
   "cell_type": "code",
   "execution_count": 46,
   "metadata": {},
   "outputs": [],
   "source": [
    "#model.save(os.path.join('models','imageclassifier.h5'))"
   ]
  },
  {
   "cell_type": "code",
   "execution_count": 47,
   "metadata": {},
   "outputs": [
    {
     "ename": "OSError",
     "evalue": "No file or directory found at imageclassifier.h5",
     "output_type": "error",
     "traceback": [
      "\u001b[1;31m---------------------------------------------------------------------------\u001b[0m",
      "\u001b[1;31mOSError\u001b[0m                                   Traceback (most recent call last)",
      "Cell \u001b[1;32mIn[47], line 1\u001b[0m\n\u001b[1;32m----> 1\u001b[0m new_model \u001b[39m=\u001b[39m load_model(\u001b[39m'\u001b[39;49m\u001b[39mimageclassifier.h5\u001b[39;49m\u001b[39m'\u001b[39;49m)\n",
      "File \u001b[1;32mc:\\Users\\hoang\\anaconda3\\envs\\myenv\\lib\\site-packages\\keras\\utils\\traceback_utils.py:70\u001b[0m, in \u001b[0;36mfilter_traceback.<locals>.error_handler\u001b[1;34m(*args, **kwargs)\u001b[0m\n\u001b[0;32m     67\u001b[0m     filtered_tb \u001b[39m=\u001b[39m _process_traceback_frames(e\u001b[39m.\u001b[39m__traceback__)\n\u001b[0;32m     68\u001b[0m     \u001b[39m# To get the full stack trace, call:\u001b[39;00m\n\u001b[0;32m     69\u001b[0m     \u001b[39m# `tf.debugging.disable_traceback_filtering()`\u001b[39;00m\n\u001b[1;32m---> 70\u001b[0m     \u001b[39mraise\u001b[39;00m e\u001b[39m.\u001b[39mwith_traceback(filtered_tb) \u001b[39mfrom\u001b[39;00m \u001b[39mNone\u001b[39m\n\u001b[0;32m     71\u001b[0m \u001b[39mfinally\u001b[39;00m:\n\u001b[0;32m     72\u001b[0m     \u001b[39mdel\u001b[39;00m filtered_tb\n",
      "File \u001b[1;32mc:\\Users\\hoang\\anaconda3\\envs\\myenv\\lib\\site-packages\\keras\\saving\\save.py:226\u001b[0m, in \u001b[0;36mload_model\u001b[1;34m(filepath, custom_objects, compile, options)\u001b[0m\n\u001b[0;32m    224\u001b[0m \u001b[39mif\u001b[39;00m \u001b[39misinstance\u001b[39m(filepath_str, \u001b[39mstr\u001b[39m):\n\u001b[0;32m    225\u001b[0m     \u001b[39mif\u001b[39;00m \u001b[39mnot\u001b[39;00m tf\u001b[39m.\u001b[39mio\u001b[39m.\u001b[39mgfile\u001b[39m.\u001b[39mexists(filepath_str):\n\u001b[1;32m--> 226\u001b[0m         \u001b[39mraise\u001b[39;00m \u001b[39mIOError\u001b[39;00m(\n\u001b[0;32m    227\u001b[0m             \u001b[39mf\u001b[39m\u001b[39m\"\u001b[39m\u001b[39mNo file or directory found at \u001b[39m\u001b[39m{\u001b[39;00mfilepath_str\u001b[39m}\u001b[39;00m\u001b[39m\"\u001b[39m\n\u001b[0;32m    228\u001b[0m         )\n\u001b[0;32m    230\u001b[0m     \u001b[39mif\u001b[39;00m tf\u001b[39m.\u001b[39mio\u001b[39m.\u001b[39mgfile\u001b[39m.\u001b[39misdir(filepath_str):\n\u001b[0;32m    231\u001b[0m         \u001b[39mreturn\u001b[39;00m saved_model_load\u001b[39m.\u001b[39mload(\n\u001b[0;32m    232\u001b[0m             filepath_str, \u001b[39mcompile\u001b[39m, options\n\u001b[0;32m    233\u001b[0m         )\n",
      "\u001b[1;31mOSError\u001b[0m: No file or directory found at imageclassifier.h5"
     ]
    }
   ],
   "source": [
    "#new_model = load_model('imageclassifier.h5')"
   ]
  },
  {
   "cell_type": "code",
   "execution_count": 44,
   "metadata": {},
   "outputs": [],
   "source": [
    "#new_model.predict(np.expand_dims(resize/255, 0))"
   ]
  }
 ],
 "metadata": {
  "kernelspec": {
   "display_name": "base",
   "language": "python",
   "name": "python3"
  },
  "language_info": {
   "codemirror_mode": {
    "name": "ipython",
    "version": 3
   },
   "file_extension": ".py",
   "mimetype": "text/x-python",
   "name": "python",
   "nbconvert_exporter": "python",
   "pygments_lexer": "ipython3",
   "version": "3.10.9"
  }
 },
 "nbformat": 4,
 "nbformat_minor": 4
}
